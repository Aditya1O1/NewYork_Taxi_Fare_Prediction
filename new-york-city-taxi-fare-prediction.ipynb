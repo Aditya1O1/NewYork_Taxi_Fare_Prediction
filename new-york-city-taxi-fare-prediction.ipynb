{
 "cells": [
  {
   "cell_type": "code",
   "execution_count": 1,
   "id": "c6451258",
   "metadata": {
    "_cell_guid": "b1076dfc-b9ad-4769-8c92-a6c4dae69d19",
    "_uuid": "8f2839f25d086af736a60e9eeb907d3b93b6e0e5",
    "execution": {
     "iopub.execute_input": "2023-04-27T06:17:16.559831Z",
     "iopub.status.busy": "2023-04-27T06:17:16.558842Z",
     "iopub.status.idle": "2023-04-27T06:17:17.836206Z",
     "shell.execute_reply": "2023-04-27T06:17:17.835197Z"
    },
    "papermill": {
     "duration": 1.291207,
     "end_time": "2023-04-27T06:17:17.838834",
     "exception": false,
     "start_time": "2023-04-27T06:17:16.547627",
     "status": "completed"
    },
    "tags": []
   },
   "outputs": [],
   "source": [
    "# importing necessary libraries\n",
    "\n",
    "import numpy as np # linear algebra\n",
    "import pandas as pd # data processing, CSV file I/O (e.g. pd.read_csv)\n",
    "\n",
    "import os\n",
    "for dirname, _, filenames in os.walk('/kaggle/input'):\n",
    "    for filename in filenames:\n",
    "        print(os.path.join(dirname, filename))\n",
    "\n",
    "import sklearn\n",
    "import seaborn as sns\n",
    "import matplotlib.pyplot as plt\n",
    "from sklearn.model_selection import  train_test_split\n",
    "import xgboost as xgb\n",
    "from sklearn.preprocessing import StandardScaler\n",
    "from sklearn.metrics import accuracy_score\n",
    "from sklearn.metrics import mean_squared_error as MSE"
   ]
  },
  {
   "cell_type": "code",
   "execution_count": 2,
   "id": "5acee420",
   "metadata": {
    "execution": {
     "iopub.execute_input": "2023-04-27T06:17:17.856968Z",
     "iopub.status.busy": "2023-04-27T06:17:17.856571Z",
     "iopub.status.idle": "2023-04-27T06:17:21.063316Z",
     "shell.execute_reply": "2023-04-27T06:17:21.062109Z"
    },
    "papermill": {
     "duration": 3.218832,
     "end_time": "2023-04-27T06:17:21.066115",
     "exception": false,
     "start_time": "2023-04-27T06:17:17.847283",
     "status": "completed"
    },
    "tags": []
   },
   "outputs": [],
   "source": [
    "train = pd.read_csv(\"../input/new-york-city-taxi-fare-prediction/train.csv\", nrows = 1000000)\n",
    "test = pd.read_csv(\"../input/new-york-city-taxi-fare-prediction/test.csv\")"
   ]
  },
  {
   "cell_type": "code",
   "execution_count": 3,
   "id": "47930847",
   "metadata": {
    "execution": {
     "iopub.execute_input": "2023-04-27T06:17:21.084145Z",
     "iopub.status.busy": "2023-04-27T06:17:21.083724Z",
     "iopub.status.idle": "2023-04-27T06:17:21.106795Z",
     "shell.execute_reply": "2023-04-27T06:17:21.105752Z"
    },
    "papermill": {
     "duration": 0.035557,
     "end_time": "2023-04-27T06:17:21.109974",
     "exception": false,
     "start_time": "2023-04-27T06:17:21.074417",
     "status": "completed"
    },
    "tags": []
   },
   "outputs": [
    {
     "data": {
      "text/html": [
       "<div>\n",
       "<style scoped>\n",
       "    .dataframe tbody tr th:only-of-type {\n",
       "        vertical-align: middle;\n",
       "    }\n",
       "\n",
       "    .dataframe tbody tr th {\n",
       "        vertical-align: top;\n",
       "    }\n",
       "\n",
       "    .dataframe thead th {\n",
       "        text-align: right;\n",
       "    }\n",
       "</style>\n",
       "<table border=\"1\" class=\"dataframe\">\n",
       "  <thead>\n",
       "    <tr style=\"text-align: right;\">\n",
       "      <th></th>\n",
       "      <th>key</th>\n",
       "      <th>fare_amount</th>\n",
       "      <th>pickup_datetime</th>\n",
       "      <th>pickup_longitude</th>\n",
       "      <th>pickup_latitude</th>\n",
       "      <th>dropoff_longitude</th>\n",
       "      <th>dropoff_latitude</th>\n",
       "      <th>passenger_count</th>\n",
       "    </tr>\n",
       "  </thead>\n",
       "  <tbody>\n",
       "    <tr>\n",
       "      <th>0</th>\n",
       "      <td>2009-06-15 17:26:21.0000001</td>\n",
       "      <td>4.5</td>\n",
       "      <td>2009-06-15 17:26:21 UTC</td>\n",
       "      <td>-73.844311</td>\n",
       "      <td>40.721319</td>\n",
       "      <td>-73.841610</td>\n",
       "      <td>40.712278</td>\n",
       "      <td>1</td>\n",
       "    </tr>\n",
       "    <tr>\n",
       "      <th>1</th>\n",
       "      <td>2010-01-05 16:52:16.0000002</td>\n",
       "      <td>16.9</td>\n",
       "      <td>2010-01-05 16:52:16 UTC</td>\n",
       "      <td>-74.016048</td>\n",
       "      <td>40.711303</td>\n",
       "      <td>-73.979268</td>\n",
       "      <td>40.782004</td>\n",
       "      <td>1</td>\n",
       "    </tr>\n",
       "    <tr>\n",
       "      <th>2</th>\n",
       "      <td>2011-08-18 00:35:00.00000049</td>\n",
       "      <td>5.7</td>\n",
       "      <td>2011-08-18 00:35:00 UTC</td>\n",
       "      <td>-73.982738</td>\n",
       "      <td>40.761270</td>\n",
       "      <td>-73.991242</td>\n",
       "      <td>40.750562</td>\n",
       "      <td>2</td>\n",
       "    </tr>\n",
       "    <tr>\n",
       "      <th>3</th>\n",
       "      <td>2012-04-21 04:30:42.0000001</td>\n",
       "      <td>7.7</td>\n",
       "      <td>2012-04-21 04:30:42 UTC</td>\n",
       "      <td>-73.987130</td>\n",
       "      <td>40.733143</td>\n",
       "      <td>-73.991567</td>\n",
       "      <td>40.758092</td>\n",
       "      <td>1</td>\n",
       "    </tr>\n",
       "    <tr>\n",
       "      <th>4</th>\n",
       "      <td>2010-03-09 07:51:00.000000135</td>\n",
       "      <td>5.3</td>\n",
       "      <td>2010-03-09 07:51:00 UTC</td>\n",
       "      <td>-73.968095</td>\n",
       "      <td>40.768008</td>\n",
       "      <td>-73.956655</td>\n",
       "      <td>40.783762</td>\n",
       "      <td>1</td>\n",
       "    </tr>\n",
       "  </tbody>\n",
       "</table>\n",
       "</div>"
      ],
      "text/plain": [
       "                             key  fare_amount          pickup_datetime  \\\n",
       "0    2009-06-15 17:26:21.0000001          4.5  2009-06-15 17:26:21 UTC   \n",
       "1    2010-01-05 16:52:16.0000002         16.9  2010-01-05 16:52:16 UTC   \n",
       "2   2011-08-18 00:35:00.00000049          5.7  2011-08-18 00:35:00 UTC   \n",
       "3    2012-04-21 04:30:42.0000001          7.7  2012-04-21 04:30:42 UTC   \n",
       "4  2010-03-09 07:51:00.000000135          5.3  2010-03-09 07:51:00 UTC   \n",
       "\n",
       "   pickup_longitude  pickup_latitude  dropoff_longitude  dropoff_latitude  \\\n",
       "0        -73.844311        40.721319         -73.841610         40.712278   \n",
       "1        -74.016048        40.711303         -73.979268         40.782004   \n",
       "2        -73.982738        40.761270         -73.991242         40.750562   \n",
       "3        -73.987130        40.733143         -73.991567         40.758092   \n",
       "4        -73.968095        40.768008         -73.956655         40.783762   \n",
       "\n",
       "   passenger_count  \n",
       "0                1  \n",
       "1                1  \n",
       "2                2  \n",
       "3                1  \n",
       "4                1  "
      ]
     },
     "execution_count": 3,
     "metadata": {},
     "output_type": "execute_result"
    }
   ],
   "source": [
    "train.head()"
   ]
  },
  {
   "cell_type": "code",
   "execution_count": 4,
   "id": "312f7cba",
   "metadata": {
    "execution": {
     "iopub.execute_input": "2023-04-27T06:17:21.128636Z",
     "iopub.status.busy": "2023-04-27T06:17:21.128254Z",
     "iopub.status.idle": "2023-04-27T06:17:21.142044Z",
     "shell.execute_reply": "2023-04-27T06:17:21.140990Z"
    },
    "papermill": {
     "duration": 0.025639,
     "end_time": "2023-04-27T06:17:21.144202",
     "exception": false,
     "start_time": "2023-04-27T06:17:21.118563",
     "status": "completed"
    },
    "tags": []
   },
   "outputs": [
    {
     "data": {
      "text/html": [
       "<div>\n",
       "<style scoped>\n",
       "    .dataframe tbody tr th:only-of-type {\n",
       "        vertical-align: middle;\n",
       "    }\n",
       "\n",
       "    .dataframe tbody tr th {\n",
       "        vertical-align: top;\n",
       "    }\n",
       "\n",
       "    .dataframe thead th {\n",
       "        text-align: right;\n",
       "    }\n",
       "</style>\n",
       "<table border=\"1\" class=\"dataframe\">\n",
       "  <thead>\n",
       "    <tr style=\"text-align: right;\">\n",
       "      <th></th>\n",
       "      <th>key</th>\n",
       "      <th>pickup_datetime</th>\n",
       "      <th>pickup_longitude</th>\n",
       "      <th>pickup_latitude</th>\n",
       "      <th>dropoff_longitude</th>\n",
       "      <th>dropoff_latitude</th>\n",
       "      <th>passenger_count</th>\n",
       "    </tr>\n",
       "  </thead>\n",
       "  <tbody>\n",
       "    <tr>\n",
       "      <th>0</th>\n",
       "      <td>2015-01-27 13:08:24.0000002</td>\n",
       "      <td>2015-01-27 13:08:24 UTC</td>\n",
       "      <td>-73.973320</td>\n",
       "      <td>40.763805</td>\n",
       "      <td>-73.981430</td>\n",
       "      <td>40.743835</td>\n",
       "      <td>1</td>\n",
       "    </tr>\n",
       "    <tr>\n",
       "      <th>1</th>\n",
       "      <td>2015-01-27 13:08:24.0000003</td>\n",
       "      <td>2015-01-27 13:08:24 UTC</td>\n",
       "      <td>-73.986862</td>\n",
       "      <td>40.719383</td>\n",
       "      <td>-73.998886</td>\n",
       "      <td>40.739201</td>\n",
       "      <td>1</td>\n",
       "    </tr>\n",
       "    <tr>\n",
       "      <th>2</th>\n",
       "      <td>2011-10-08 11:53:44.0000002</td>\n",
       "      <td>2011-10-08 11:53:44 UTC</td>\n",
       "      <td>-73.982524</td>\n",
       "      <td>40.751260</td>\n",
       "      <td>-73.979654</td>\n",
       "      <td>40.746139</td>\n",
       "      <td>1</td>\n",
       "    </tr>\n",
       "    <tr>\n",
       "      <th>3</th>\n",
       "      <td>2012-12-01 21:12:12.0000002</td>\n",
       "      <td>2012-12-01 21:12:12 UTC</td>\n",
       "      <td>-73.981160</td>\n",
       "      <td>40.767807</td>\n",
       "      <td>-73.990448</td>\n",
       "      <td>40.751635</td>\n",
       "      <td>1</td>\n",
       "    </tr>\n",
       "    <tr>\n",
       "      <th>4</th>\n",
       "      <td>2012-12-01 21:12:12.0000003</td>\n",
       "      <td>2012-12-01 21:12:12 UTC</td>\n",
       "      <td>-73.966046</td>\n",
       "      <td>40.789775</td>\n",
       "      <td>-73.988565</td>\n",
       "      <td>40.744427</td>\n",
       "      <td>1</td>\n",
       "    </tr>\n",
       "  </tbody>\n",
       "</table>\n",
       "</div>"
      ],
      "text/plain": [
       "                           key          pickup_datetime  pickup_longitude  \\\n",
       "0  2015-01-27 13:08:24.0000002  2015-01-27 13:08:24 UTC        -73.973320   \n",
       "1  2015-01-27 13:08:24.0000003  2015-01-27 13:08:24 UTC        -73.986862   \n",
       "2  2011-10-08 11:53:44.0000002  2011-10-08 11:53:44 UTC        -73.982524   \n",
       "3  2012-12-01 21:12:12.0000002  2012-12-01 21:12:12 UTC        -73.981160   \n",
       "4  2012-12-01 21:12:12.0000003  2012-12-01 21:12:12 UTC        -73.966046   \n",
       "\n",
       "   pickup_latitude  dropoff_longitude  dropoff_latitude  passenger_count  \n",
       "0        40.763805         -73.981430         40.743835                1  \n",
       "1        40.719383         -73.998886         40.739201                1  \n",
       "2        40.751260         -73.979654         40.746139                1  \n",
       "3        40.767807         -73.990448         40.751635                1  \n",
       "4        40.789775         -73.988565         40.744427                1  "
      ]
     },
     "execution_count": 4,
     "metadata": {},
     "output_type": "execute_result"
    }
   ],
   "source": [
    "test.head()"
   ]
  },
  {
   "cell_type": "code",
   "execution_count": 5,
   "id": "5988755f",
   "metadata": {
    "execution": {
     "iopub.execute_input": "2023-04-27T06:17:21.163111Z",
     "iopub.status.busy": "2023-04-27T06:17:21.162442Z",
     "iopub.status.idle": "2023-04-27T06:17:21.168057Z",
     "shell.execute_reply": "2023-04-27T06:17:21.167309Z"
    },
    "papermill": {
     "duration": 0.017316,
     "end_time": "2023-04-27T06:17:21.170018",
     "exception": false,
     "start_time": "2023-04-27T06:17:21.152702",
     "status": "completed"
    },
    "tags": []
   },
   "outputs": [
    {
     "data": {
      "text/plain": [
       "((1000000, 8), (9914, 7))"
      ]
     },
     "execution_count": 5,
     "metadata": {},
     "output_type": "execute_result"
    }
   ],
   "source": [
    "train.shape,test.shape"
   ]
  },
  {
   "cell_type": "code",
   "execution_count": 6,
   "id": "13ca6a79",
   "metadata": {
    "execution": {
     "iopub.execute_input": "2023-04-27T06:17:21.188982Z",
     "iopub.status.busy": "2023-04-27T06:17:21.188554Z",
     "iopub.status.idle": "2023-04-27T06:17:21.295662Z",
     "shell.execute_reply": "2023-04-27T06:17:21.294537Z"
    },
    "papermill": {
     "duration": 0.119411,
     "end_time": "2023-04-27T06:17:21.298010",
     "exception": false,
     "start_time": "2023-04-27T06:17:21.178599",
     "status": "completed"
    },
    "tags": []
   },
   "outputs": [
    {
     "data": {
      "text/plain": [
       "key                   0\n",
       "fare_amount           0\n",
       "pickup_datetime       0\n",
       "pickup_longitude      0\n",
       "pickup_latitude       0\n",
       "dropoff_longitude    10\n",
       "dropoff_latitude     10\n",
       "passenger_count       0\n",
       "dtype: int64"
      ]
     },
     "execution_count": 6,
     "metadata": {},
     "output_type": "execute_result"
    }
   ],
   "source": [
    "train.isnull().sum()"
   ]
  },
  {
   "cell_type": "code",
   "execution_count": 7,
   "id": "3169ab4c",
   "metadata": {
    "execution": {
     "iopub.execute_input": "2023-04-27T06:17:21.317770Z",
     "iopub.status.busy": "2023-04-27T06:17:21.317132Z",
     "iopub.status.idle": "2023-04-27T06:17:21.522049Z",
     "shell.execute_reply": "2023-04-27T06:17:21.521166Z"
    },
    "papermill": {
     "duration": 0.217518,
     "end_time": "2023-04-27T06:17:21.524606",
     "exception": false,
     "start_time": "2023-04-27T06:17:21.307088",
     "status": "completed"
    },
    "tags": []
   },
   "outputs": [],
   "source": [
    "train = train.dropna(how ='any', axis ='rows') # eliminated rows with null values"
   ]
  },
  {
   "cell_type": "code",
   "execution_count": 8,
   "id": "8a8e097f",
   "metadata": {
    "execution": {
     "iopub.execute_input": "2023-04-27T06:17:21.545102Z",
     "iopub.status.busy": "2023-04-27T06:17:21.544659Z",
     "iopub.status.idle": "2023-04-27T06:17:21.662655Z",
     "shell.execute_reply": "2023-04-27T06:17:21.661538Z"
    },
    "papermill": {
     "duration": 0.130609,
     "end_time": "2023-04-27T06:17:21.665067",
     "exception": false,
     "start_time": "2023-04-27T06:17:21.534458",
     "status": "completed"
    },
    "tags": []
   },
   "outputs": [
    {
     "name": "stdout",
     "output_type": "stream",
     "text": [
      "<class 'pandas.core.frame.DataFrame'>\n",
      "Int64Index: 999990 entries, 0 to 999999\n",
      "Data columns (total 8 columns):\n",
      " #   Column             Non-Null Count   Dtype  \n",
      "---  ------             --------------   -----  \n",
      " 0   key                999990 non-null  object \n",
      " 1   fare_amount        999990 non-null  float64\n",
      " 2   pickup_datetime    999990 non-null  object \n",
      " 3   pickup_longitude   999990 non-null  float64\n",
      " 4   pickup_latitude    999990 non-null  float64\n",
      " 5   dropoff_longitude  999990 non-null  float64\n",
      " 6   dropoff_latitude   999990 non-null  float64\n",
      " 7   passenger_count    999990 non-null  int64  \n",
      "dtypes: float64(5), int64(1), object(2)\n",
      "memory usage: 68.7+ MB\n"
     ]
    }
   ],
   "source": [
    "train.info()"
   ]
  },
  {
   "cell_type": "code",
   "execution_count": 9,
   "id": "9f5b8e2e",
   "metadata": {
    "execution": {
     "iopub.execute_input": "2023-04-27T06:17:21.684681Z",
     "iopub.status.busy": "2023-04-27T06:17:21.684279Z",
     "iopub.status.idle": "2023-04-27T06:17:21.738381Z",
     "shell.execute_reply": "2023-04-27T06:17:21.737265Z"
    },
    "papermill": {
     "duration": 0.066649,
     "end_time": "2023-04-27T06:17:21.740780",
     "exception": false,
     "start_time": "2023-04-27T06:17:21.674131",
     "status": "completed"
    },
    "tags": []
   },
   "outputs": [
    {
     "data": {
      "text/plain": [
       "count    999990.000000\n",
       "mean         11.347953\n",
       "std           9.821790\n",
       "min         -44.900000\n",
       "25%           6.000000\n",
       "50%           8.500000\n",
       "75%          12.500000\n",
       "max         500.000000\n",
       "Name: fare_amount, dtype: float64"
      ]
     },
     "execution_count": 9,
     "metadata": {},
     "output_type": "execute_result"
    }
   ],
   "source": [
    "train['fare_amount'].describe()"
   ]
  },
  {
   "cell_type": "code",
   "execution_count": 10,
   "id": "9beaf6c1",
   "metadata": {
    "execution": {
     "iopub.execute_input": "2023-04-27T06:17:21.760053Z",
     "iopub.status.busy": "2023-04-27T06:17:21.759624Z",
     "iopub.status.idle": "2023-04-27T06:17:21.922314Z",
     "shell.execute_reply": "2023-04-27T06:17:21.921268Z"
    },
    "papermill": {
     "duration": 0.175138,
     "end_time": "2023-04-27T06:17:21.924781",
     "exception": false,
     "start_time": "2023-04-27T06:17:21.749643",
     "status": "completed"
    },
    "tags": []
   },
   "outputs": [],
   "source": [
    "train.drop(train[train['passenger_count'] == 0].index, axis=0, inplace = True)"
   ]
  },
  {
   "cell_type": "code",
   "execution_count": 11,
   "id": "607ebf45",
   "metadata": {
    "execution": {
     "iopub.execute_input": "2023-04-27T06:17:21.945638Z",
     "iopub.status.busy": "2023-04-27T06:17:21.944788Z",
     "iopub.status.idle": "2023-04-27T06:19:47.234138Z",
     "shell.execute_reply": "2023-04-27T06:19:47.232991Z"
    },
    "papermill": {
     "duration": 145.302784,
     "end_time": "2023-04-27T06:19:47.237072",
     "exception": false,
     "start_time": "2023-04-27T06:17:21.934288",
     "status": "completed"
    },
    "tags": []
   },
   "outputs": [],
   "source": [
    "train['pickup_datetime'] = pd.to_datetime(train.pickup_datetime)\n",
    "test['pickup_datetime'] = pd.to_datetime(test.pickup_datetime)"
   ]
  },
  {
   "cell_type": "code",
   "execution_count": 12,
   "id": "a0bea093",
   "metadata": {
    "execution": {
     "iopub.execute_input": "2023-04-27T06:19:47.257306Z",
     "iopub.status.busy": "2023-04-27T06:19:47.256891Z",
     "iopub.status.idle": "2023-04-27T06:19:48.094635Z",
     "shell.execute_reply": "2023-04-27T06:19:48.093485Z"
    },
    "papermill": {
     "duration": 0.851039,
     "end_time": "2023-04-27T06:19:48.097456",
     "exception": false,
     "start_time": "2023-04-27T06:19:47.246417",
     "status": "completed"
    },
    "tags": []
   },
   "outputs": [],
   "source": [
    "train.loc[:, 'pickup_hour'] = train['pickup_datetime'].dt.hour\n",
    "train.loc[:, 'pickup_weekday'] = train['pickup_datetime'].dt.day_name()\n",
    "train.loc[:, 'pickup_date'] = train['pickup_datetime'].dt.day\n",
    "train.loc[:, 'pickup_month'] = train['pickup_datetime'].dt.month\n",
    "train.loc[:, 'pickup_day'] = train['pickup_datetime'].dt.dayofweek\n",
    "test.loc[:, 'pickup_hour'] = test['pickup_datetime'].dt.hour\n",
    "test.loc[:, 'pickup_weekday'] = test['pickup_datetime'].dt.day_name()\n",
    "test.loc[:, 'pickup_date'] = test['pickup_datetime'].dt.day\n",
    "test.loc[:, 'pickup_month'] = test['pickup_datetime'].dt.month\n",
    "test.loc[:, 'pickup_day'] = test['pickup_datetime'].dt.dayofweek"
   ]
  },
  {
   "cell_type": "code",
   "execution_count": 13,
   "id": "066269ce",
   "metadata": {
    "execution": {
     "iopub.execute_input": "2023-04-27T06:19:48.117532Z",
     "iopub.status.busy": "2023-04-27T06:19:48.116763Z",
     "iopub.status.idle": "2023-04-27T06:19:48.289755Z",
     "shell.execute_reply": "2023-04-27T06:19:48.288586Z"
    },
    "papermill": {
     "duration": 0.186024,
     "end_time": "2023-04-27T06:19:48.292563",
     "exception": false,
     "start_time": "2023-04-27T06:19:48.106539",
     "status": "completed"
    },
    "tags": []
   },
   "outputs": [],
   "source": [
    "train.drop(['key','pickup_datetime'], axis=1,inplace=True)"
   ]
  },
  {
   "cell_type": "markdown",
   "id": "4034fff5",
   "metadata": {
    "papermill": {
     "duration": 0.008743,
     "end_time": "2023-04-27T06:19:48.310465",
     "exception": false,
     "start_time": "2023-04-27T06:19:48.301722",
     "status": "completed"
    },
    "tags": []
   },
   "source": [
    "The city of New York longitude ranges between -75 and -72. The latitude ranges between 40 and 42. So,"
   ]
  },
  {
   "cell_type": "code",
   "execution_count": 14,
   "id": "46a91f8f",
   "metadata": {
    "execution": {
     "iopub.execute_input": "2023-04-27T06:19:48.330156Z",
     "iopub.status.busy": "2023-04-27T06:19:48.329463Z",
     "iopub.status.idle": "2023-04-27T06:19:48.770372Z",
     "shell.execute_reply": "2023-04-27T06:19:48.769269Z"
    },
    "papermill": {
     "duration": 0.453939,
     "end_time": "2023-04-27T06:19:48.773294",
     "exception": false,
     "start_time": "2023-04-27T06:19:48.319355",
     "status": "completed"
    },
    "tags": []
   },
   "outputs": [],
   "source": [
    "train.dropna(inplace=True)\n",
    "\n",
    "train.drop(train.index[(train.pickup_longitude < -75) | \n",
    "           (train.pickup_longitude > -72) | \n",
    "           (train.pickup_latitude < 40) | \n",
    "           (train.pickup_latitude > 42)],inplace=True)\n",
    "train.drop(train.index[(train.dropoff_longitude < -75) | \n",
    "           (train.dropoff_longitude > -72) | \n",
    "           (train.dropoff_latitude < 40) | \n",
    "           (train.dropoff_latitude > 42)],inplace=True)"
   ]
  },
  {
   "cell_type": "code",
   "execution_count": 15,
   "id": "77d4108d",
   "metadata": {
    "execution": {
     "iopub.execute_input": "2023-04-27T06:19:48.794868Z",
     "iopub.status.busy": "2023-04-27T06:19:48.793154Z",
     "iopub.status.idle": "2023-04-27T06:19:48.809916Z",
     "shell.execute_reply": "2023-04-27T06:19:48.808772Z"
    },
    "papermill": {
     "duration": 0.030272,
     "end_time": "2023-04-27T06:19:48.812838",
     "exception": false,
     "start_time": "2023-04-27T06:19:48.782566",
     "status": "completed"
    },
    "tags": []
   },
   "outputs": [
    {
     "data": {
      "text/html": [
       "<div>\n",
       "<style scoped>\n",
       "    .dataframe tbody tr th:only-of-type {\n",
       "        vertical-align: middle;\n",
       "    }\n",
       "\n",
       "    .dataframe tbody tr th {\n",
       "        vertical-align: top;\n",
       "    }\n",
       "\n",
       "    .dataframe thead th {\n",
       "        text-align: right;\n",
       "    }\n",
       "</style>\n",
       "<table border=\"1\" class=\"dataframe\">\n",
       "  <thead>\n",
       "    <tr style=\"text-align: right;\">\n",
       "      <th></th>\n",
       "      <th>fare_amount</th>\n",
       "      <th>pickup_longitude</th>\n",
       "      <th>pickup_latitude</th>\n",
       "      <th>dropoff_longitude</th>\n",
       "      <th>dropoff_latitude</th>\n",
       "      <th>passenger_count</th>\n",
       "      <th>pickup_hour</th>\n",
       "      <th>pickup_weekday</th>\n",
       "      <th>pickup_date</th>\n",
       "      <th>pickup_month</th>\n",
       "      <th>pickup_day</th>\n",
       "    </tr>\n",
       "  </thead>\n",
       "  <tbody>\n",
       "    <tr>\n",
       "      <th>0</th>\n",
       "      <td>4.5</td>\n",
       "      <td>-73.844311</td>\n",
       "      <td>40.721319</td>\n",
       "      <td>-73.841610</td>\n",
       "      <td>40.712278</td>\n",
       "      <td>1</td>\n",
       "      <td>17</td>\n",
       "      <td>Monday</td>\n",
       "      <td>15</td>\n",
       "      <td>6</td>\n",
       "      <td>0</td>\n",
       "    </tr>\n",
       "    <tr>\n",
       "      <th>1</th>\n",
       "      <td>16.9</td>\n",
       "      <td>-74.016048</td>\n",
       "      <td>40.711303</td>\n",
       "      <td>-73.979268</td>\n",
       "      <td>40.782004</td>\n",
       "      <td>1</td>\n",
       "      <td>16</td>\n",
       "      <td>Tuesday</td>\n",
       "      <td>5</td>\n",
       "      <td>1</td>\n",
       "      <td>1</td>\n",
       "    </tr>\n",
       "    <tr>\n",
       "      <th>2</th>\n",
       "      <td>5.7</td>\n",
       "      <td>-73.982738</td>\n",
       "      <td>40.761270</td>\n",
       "      <td>-73.991242</td>\n",
       "      <td>40.750562</td>\n",
       "      <td>2</td>\n",
       "      <td>0</td>\n",
       "      <td>Thursday</td>\n",
       "      <td>18</td>\n",
       "      <td>8</td>\n",
       "      <td>3</td>\n",
       "    </tr>\n",
       "    <tr>\n",
       "      <th>3</th>\n",
       "      <td>7.7</td>\n",
       "      <td>-73.987130</td>\n",
       "      <td>40.733143</td>\n",
       "      <td>-73.991567</td>\n",
       "      <td>40.758092</td>\n",
       "      <td>1</td>\n",
       "      <td>4</td>\n",
       "      <td>Saturday</td>\n",
       "      <td>21</td>\n",
       "      <td>4</td>\n",
       "      <td>5</td>\n",
       "    </tr>\n",
       "    <tr>\n",
       "      <th>4</th>\n",
       "      <td>5.3</td>\n",
       "      <td>-73.968095</td>\n",
       "      <td>40.768008</td>\n",
       "      <td>-73.956655</td>\n",
       "      <td>40.783762</td>\n",
       "      <td>1</td>\n",
       "      <td>7</td>\n",
       "      <td>Tuesday</td>\n",
       "      <td>9</td>\n",
       "      <td>3</td>\n",
       "      <td>1</td>\n",
       "    </tr>\n",
       "  </tbody>\n",
       "</table>\n",
       "</div>"
      ],
      "text/plain": [
       "   fare_amount  pickup_longitude  pickup_latitude  dropoff_longitude  \\\n",
       "0          4.5        -73.844311        40.721319         -73.841610   \n",
       "1         16.9        -74.016048        40.711303         -73.979268   \n",
       "2          5.7        -73.982738        40.761270         -73.991242   \n",
       "3          7.7        -73.987130        40.733143         -73.991567   \n",
       "4          5.3        -73.968095        40.768008         -73.956655   \n",
       "\n",
       "   dropoff_latitude  passenger_count  pickup_hour pickup_weekday  pickup_date  \\\n",
       "0         40.712278                1           17         Monday           15   \n",
       "1         40.782004                1           16        Tuesday            5   \n",
       "2         40.750562                2            0       Thursday           18   \n",
       "3         40.758092                1            4       Saturday           21   \n",
       "4         40.783762                1            7        Tuesday            9   \n",
       "\n",
       "   pickup_month  pickup_day  \n",
       "0             6           0  \n",
       "1             1           1  \n",
       "2             8           3  \n",
       "3             4           5  \n",
       "4             3           1  "
      ]
     },
     "execution_count": 15,
     "metadata": {},
     "output_type": "execute_result"
    }
   ],
   "source": [
    "train.head()"
   ]
  },
  {
   "cell_type": "code",
   "execution_count": 16,
   "id": "7af57e00",
   "metadata": {
    "execution": {
     "iopub.execute_input": "2023-04-27T06:19:48.846579Z",
     "iopub.status.busy": "2023-04-27T06:19:48.846188Z",
     "iopub.status.idle": "2023-04-27T06:19:48.879219Z",
     "shell.execute_reply": "2023-04-27T06:19:48.878292Z"
    },
    "papermill": {
     "duration": 0.055548,
     "end_time": "2023-04-27T06:19:48.881720",
     "exception": false,
     "start_time": "2023-04-27T06:19:48.826172",
     "status": "completed"
    },
    "tags": []
   },
   "outputs": [],
   "source": [
    "train = train.drop(['pickup_weekday'],axis=1)"
   ]
  },
  {
   "cell_type": "markdown",
   "id": "06fb3b08",
   "metadata": {
    "papermill": {
     "duration": 0.008954,
     "end_time": "2023-04-27T06:19:48.900105",
     "exception": false,
     "start_time": "2023-04-27T06:19:48.891151",
     "status": "completed"
    },
    "tags": []
   },
   "source": [
    "## Model Training"
   ]
  },
  {
   "cell_type": "code",
   "execution_count": 17,
   "id": "c6a461d0",
   "metadata": {
    "execution": {
     "iopub.execute_input": "2023-04-27T06:19:48.920601Z",
     "iopub.status.busy": "2023-04-27T06:19:48.919823Z",
     "iopub.status.idle": "2023-04-27T06:19:49.136276Z",
     "shell.execute_reply": "2023-04-27T06:19:49.135187Z"
    },
    "papermill": {
     "duration": 0.229464,
     "end_time": "2023-04-27T06:19:49.138769",
     "exception": false,
     "start_time": "2023-04-27T06:19:48.909305",
     "status": "completed"
    },
    "tags": []
   },
   "outputs": [],
   "source": [
    "x, y = train.drop('fare_amount', axis = 1), train['fare_amount']\n",
    "x_train, x_test, y_train, y_test = train_test_split(x, y, test_size=0.2, random_state=12)"
   ]
  },
  {
   "cell_type": "code",
   "execution_count": 18,
   "id": "24988e5d",
   "metadata": {
    "execution": {
     "iopub.execute_input": "2023-04-27T06:19:49.159415Z",
     "iopub.status.busy": "2023-04-27T06:19:49.158753Z",
     "iopub.status.idle": "2023-04-27T06:19:49.309580Z",
     "shell.execute_reply": "2023-04-27T06:19:49.308401Z"
    },
    "papermill": {
     "duration": 0.163777,
     "end_time": "2023-04-27T06:19:49.311852",
     "exception": false,
     "start_time": "2023-04-27T06:19:49.148075",
     "status": "completed"
    },
    "tags": []
   },
   "outputs": [
    {
     "data": {
      "text/plain": [
       "array([[-0.50910543, -1.10240075, -0.8668322 , ..., -1.3472513 ,\n",
       "         0.5033584 , -1.5592937 ],\n",
       "       [-0.43654057,  0.27544186,  0.6601215 , ..., -1.46243925,\n",
       "         0.7942589 , -0.5337492 ],\n",
       "       [-0.74933517, -1.27666273, -0.76334361, ..., -0.08018377,\n",
       "        -0.3693431 ,  1.00456755],\n",
       "       ...,\n",
       "       [ 0.25570344,  0.7023167 ,  0.39967348, ...,  0.72613193,\n",
       "         0.5033584 ,  0.4917953 ],\n",
       "       [ 0.13827377,  0.40496543, -0.09778329, ...,  1.53244763,\n",
       "         1.3760599 , -1.5592937 ],\n",
       "       [-0.84636239, -0.40444798, -0.53941482, ..., -0.08018377,\n",
       "        -0.6602436 , -1.5592937 ]])"
      ]
     },
     "execution_count": 18,
     "metadata": {},
     "output_type": "execute_result"
    }
   ],
   "source": [
    "scaler = StandardScaler()\n",
    "scaler.fit_transform(x_train,x_test)"
   ]
  },
  {
   "cell_type": "code",
   "execution_count": 19,
   "id": "323eb84d",
   "metadata": {
    "execution": {
     "iopub.execute_input": "2023-04-27T06:19:49.333015Z",
     "iopub.status.busy": "2023-04-27T06:19:49.332369Z",
     "iopub.status.idle": "2023-04-27T06:19:49.337664Z",
     "shell.execute_reply": "2023-04-27T06:19:49.336622Z"
    },
    "papermill": {
     "duration": 0.018812,
     "end_time": "2023-04-27T06:19:49.340031",
     "exception": false,
     "start_time": "2023-04-27T06:19:49.321219",
     "status": "completed"
    },
    "tags": []
   },
   "outputs": [],
   "source": [
    "xgb_r = xgb.XGBRegressor(objective ='reg:linear',n_estimators = 400, seed = 123)"
   ]
  },
  {
   "cell_type": "code",
   "execution_count": 20,
   "id": "e48fab7f",
   "metadata": {
    "execution": {
     "iopub.execute_input": "2023-04-27T06:19:49.361259Z",
     "iopub.status.busy": "2023-04-27T06:19:49.360596Z",
     "iopub.status.idle": "2023-04-27T06:22:19.215084Z",
     "shell.execute_reply": "2023-04-27T06:22:19.213899Z"
    },
    "papermill": {
     "duration": 149.877131,
     "end_time": "2023-04-27T06:22:19.226594",
     "exception": false,
     "start_time": "2023-04-27T06:19:49.349463",
     "status": "completed"
    },
    "tags": []
   },
   "outputs": [
    {
     "name": "stdout",
     "output_type": "stream",
     "text": [
      "[06:19:49] WARNING: ../src/objective/regression_obj.cu:203: reg:linear is now deprecated in favor of reg:squarederror.\n"
     ]
    },
    {
     "data": {
      "text/plain": [
       "XGBRegressor(base_score=0.5, booster='gbtree', callbacks=None,\n",
       "             colsample_bylevel=1, colsample_bynode=1, colsample_bytree=1,\n",
       "             early_stopping_rounds=None, enable_categorical=False,\n",
       "             eval_metric=None, gamma=0, gpu_id=-1, grow_policy='depthwise',\n",
       "             importance_type=None, interaction_constraints='',\n",
       "             learning_rate=0.300000012, max_bin=256, max_cat_to_onehot=4,\n",
       "             max_delta_step=0, max_depth=6, max_leaves=0, min_child_weight=1,\n",
       "             missing=nan, monotone_constraints='()', n_estimators=400, n_jobs=0,\n",
       "             num_parallel_tree=1, objective='reg:linear', predictor='auto',\n",
       "             random_state=123, reg_alpha=0, ...)"
      ]
     },
     "execution_count": 20,
     "metadata": {},
     "output_type": "execute_result"
    }
   ],
   "source": [
    "xgb_r.fit(x_train,y_train)"
   ]
  },
  {
   "cell_type": "code",
   "execution_count": 21,
   "id": "29f18f32",
   "metadata": {
    "execution": {
     "iopub.execute_input": "2023-04-27T06:22:19.247404Z",
     "iopub.status.busy": "2023-04-27T06:22:19.246998Z",
     "iopub.status.idle": "2023-04-27T06:22:19.953493Z",
     "shell.execute_reply": "2023-04-27T06:22:19.952499Z"
    },
    "papermill": {
     "duration": 0.720282,
     "end_time": "2023-04-27T06:22:19.956517",
     "exception": false,
     "start_time": "2023-04-27T06:22:19.236235",
     "status": "completed"
    },
    "tags": []
   },
   "outputs": [],
   "source": [
    "y_pred = xgb_r.predict(x_test)"
   ]
  },
  {
   "cell_type": "code",
   "execution_count": 22,
   "id": "6f34edc7",
   "metadata": {
    "execution": {
     "iopub.execute_input": "2023-04-27T06:22:19.977221Z",
     "iopub.status.busy": "2023-04-27T06:22:19.976808Z",
     "iopub.status.idle": "2023-04-27T06:22:19.986225Z",
     "shell.execute_reply": "2023-04-27T06:22:19.985377Z"
    },
    "papermill": {
     "duration": 0.022073,
     "end_time": "2023-04-27T06:22:19.988282",
     "exception": false,
     "start_time": "2023-04-27T06:22:19.966209",
     "status": "completed"
    },
    "tags": []
   },
   "outputs": [
    {
     "data": {
      "text/plain": [
       "4.305091807264246"
      ]
     },
     "execution_count": 22,
     "metadata": {},
     "output_type": "execute_result"
    }
   ],
   "source": [
    "rmse = np.sqrt(MSE(y_test, y_pred))\n",
    "rmse"
   ]
  },
  {
   "cell_type": "code",
   "execution_count": 23,
   "id": "4fc66dc8",
   "metadata": {
    "execution": {
     "iopub.execute_input": "2023-04-27T06:22:20.009241Z",
     "iopub.status.busy": "2023-04-27T06:22:20.008800Z",
     "iopub.status.idle": "2023-04-27T06:22:20.016593Z",
     "shell.execute_reply": "2023-04-27T06:22:20.015520Z"
    },
    "papermill": {
     "duration": 0.021258,
     "end_time": "2023-04-27T06:22:20.019079",
     "exception": false,
     "start_time": "2023-04-27T06:22:19.997821",
     "status": "completed"
    },
    "tags": []
   },
   "outputs": [],
   "source": [
    "test.drop(['key','pickup_datetime'], axis=1,inplace=True)"
   ]
  },
  {
   "cell_type": "code",
   "execution_count": 24,
   "id": "c9416a15",
   "metadata": {
    "execution": {
     "iopub.execute_input": "2023-04-27T06:22:20.039715Z",
     "iopub.status.busy": "2023-04-27T06:22:20.039314Z",
     "iopub.status.idle": "2023-04-27T06:22:20.056861Z",
     "shell.execute_reply": "2023-04-27T06:22:20.056007Z"
    },
    "papermill": {
     "duration": 0.030552,
     "end_time": "2023-04-27T06:22:20.059116",
     "exception": false,
     "start_time": "2023-04-27T06:22:20.028564",
     "status": "completed"
    },
    "tags": []
   },
   "outputs": [],
   "source": [
    "test.dropna(inplace=True)\n",
    "\n",
    "test.drop(test.index[(test.pickup_longitude < -75) | \n",
    "           (test.pickup_longitude > -72) | \n",
    "           (test.pickup_latitude < 40) | \n",
    "           (test.pickup_latitude > 42)],inplace=True)\n",
    "test.drop(test.index[(test.dropoff_longitude < -75) | \n",
    "           (test.dropoff_longitude > -72) | \n",
    "           (test.dropoff_latitude < 40) | \n",
    "           (test.dropoff_latitude > 42)],inplace=True)"
   ]
  },
  {
   "cell_type": "code",
   "execution_count": 25,
   "id": "d32468f2",
   "metadata": {
    "execution": {
     "iopub.execute_input": "2023-04-27T06:22:20.080442Z",
     "iopub.status.busy": "2023-04-27T06:22:20.079419Z",
     "iopub.status.idle": "2023-04-27T06:22:20.086455Z",
     "shell.execute_reply": "2023-04-27T06:22:20.085337Z"
    },
    "papermill": {
     "duration": 0.019848,
     "end_time": "2023-04-27T06:22:20.088803",
     "exception": false,
     "start_time": "2023-04-27T06:22:20.068955",
     "status": "completed"
    },
    "tags": []
   },
   "outputs": [],
   "source": [
    "test.drop(['pickup_weekday'], axis=1,inplace=True)"
   ]
  },
  {
   "cell_type": "code",
   "execution_count": 26,
   "id": "7c9e4697",
   "metadata": {
    "execution": {
     "iopub.execute_input": "2023-04-27T06:22:20.109673Z",
     "iopub.status.busy": "2023-04-27T06:22:20.108719Z",
     "iopub.status.idle": "2023-04-27T06:22:20.120458Z",
     "shell.execute_reply": "2023-04-27T06:22:20.119392Z"
    },
    "papermill": {
     "duration": 0.024375,
     "end_time": "2023-04-27T06:22:20.122632",
     "exception": false,
     "start_time": "2023-04-27T06:22:20.098257",
     "status": "completed"
    },
    "tags": []
   },
   "outputs": [
    {
     "data": {
      "text/plain": [
       "array([[ 0.03278367,  0.38058296, -0.19896544, ...,  1.22265065,\n",
       "        -1.74703242, -0.92904143],\n",
       "       [-0.28383094, -0.94387891, -0.64575618, ...,  1.22265065,\n",
       "        -1.74703242, -0.92904143],\n",
       "       [-0.18240469,  0.00653781, -0.15350703, ..., -0.92714831,\n",
       "         0.93704904,  1.07662393],\n",
       "       ...,\n",
       "       [-0.39460146, -0.72846192,  4.70733595, ...,  0.31747214,\n",
       "        -0.8523386 ,  1.57804027],\n",
       "       [-0.25368566, -0.46538934,  0.88247126, ...,  1.6752399 ,\n",
       "        -1.74703242,  1.07662393],\n",
       "       [-0.31094385,  0.09032734, -0.68149163, ...,  0.20432483,\n",
       "        -1.74703242,  1.57804027]])"
      ]
     },
     "execution_count": 26,
     "metadata": {},
     "output_type": "execute_result"
    }
   ],
   "source": [
    "scaler.fit_transform(test)"
   ]
  },
  {
   "cell_type": "code",
   "execution_count": 27,
   "id": "60ddc8b7",
   "metadata": {
    "execution": {
     "iopub.execute_input": "2023-04-27T06:22:20.143660Z",
     "iopub.status.busy": "2023-04-27T06:22:20.142764Z",
     "iopub.status.idle": "2023-04-27T06:22:20.188030Z",
     "shell.execute_reply": "2023-04-27T06:22:20.186980Z"
    },
    "papermill": {
     "duration": 0.058814,
     "end_time": "2023-04-27T06:22:20.190862",
     "exception": false,
     "start_time": "2023-04-27T06:22:20.132048",
     "status": "completed"
    },
    "tags": []
   },
   "outputs": [],
   "source": [
    "new_pred = xgb_r.predict(test)"
   ]
  },
  {
   "cell_type": "code",
   "execution_count": 28,
   "id": "f7ef010b",
   "metadata": {
    "execution": {
     "iopub.execute_input": "2023-04-27T06:22:20.212893Z",
     "iopub.status.busy": "2023-04-27T06:22:20.211919Z",
     "iopub.status.idle": "2023-04-27T06:22:20.235375Z",
     "shell.execute_reply": "2023-04-27T06:22:20.234242Z"
    },
    "papermill": {
     "duration": 0.037358,
     "end_time": "2023-04-27T06:22:20.238189",
     "exception": false,
     "start_time": "2023-04-27T06:22:20.200831",
     "status": "completed"
    },
    "tags": []
   },
   "outputs": [],
   "source": [
    "sample_new=pd.read_csv('../input/new-york-city-taxi-fare-prediction/test.csv')"
   ]
  },
  {
   "cell_type": "code",
   "execution_count": 29,
   "id": "291faf29",
   "metadata": {
    "execution": {
     "iopub.execute_input": "2023-04-27T06:22:20.259448Z",
     "iopub.status.busy": "2023-04-27T06:22:20.259028Z",
     "iopub.status.idle": "2023-04-27T06:22:20.265056Z",
     "shell.execute_reply": "2023-04-27T06:22:20.264267Z"
    },
    "papermill": {
     "duration": 0.01915,
     "end_time": "2023-04-27T06:22:20.267044",
     "exception": false,
     "start_time": "2023-04-27T06:22:20.247894",
     "status": "completed"
    },
    "tags": []
   },
   "outputs": [],
   "source": [
    "sample_new.drop(['pickup_datetime','pickup_longitude','pickup_latitude','dropoff_longitude','dropoff_latitude','passenger_count'], axis=1,inplace=True)"
   ]
  },
  {
   "cell_type": "code",
   "execution_count": 30,
   "id": "330cc08b",
   "metadata": {
    "execution": {
     "iopub.execute_input": "2023-04-27T06:22:20.288054Z",
     "iopub.status.busy": "2023-04-27T06:22:20.287459Z",
     "iopub.status.idle": "2023-04-27T06:22:20.292041Z",
     "shell.execute_reply": "2023-04-27T06:22:20.291249Z"
    },
    "papermill": {
     "duration": 0.017536,
     "end_time": "2023-04-27T06:22:20.294145",
     "exception": false,
     "start_time": "2023-04-27T06:22:20.276609",
     "status": "completed"
    },
    "tags": []
   },
   "outputs": [],
   "source": [
    "sample_new['fare_amount'] = new_pred"
   ]
  },
  {
   "cell_type": "code",
   "execution_count": 31,
   "id": "5cdbe062",
   "metadata": {
    "execution": {
     "iopub.execute_input": "2023-04-27T06:22:20.315863Z",
     "iopub.status.busy": "2023-04-27T06:22:20.314807Z",
     "iopub.status.idle": "2023-04-27T06:22:20.325707Z",
     "shell.execute_reply": "2023-04-27T06:22:20.324666Z"
    },
    "papermill": {
     "duration": 0.023651,
     "end_time": "2023-04-27T06:22:20.327818",
     "exception": false,
     "start_time": "2023-04-27T06:22:20.304167",
     "status": "completed"
    },
    "tags": []
   },
   "outputs": [
    {
     "data": {
      "text/html": [
       "<div>\n",
       "<style scoped>\n",
       "    .dataframe tbody tr th:only-of-type {\n",
       "        vertical-align: middle;\n",
       "    }\n",
       "\n",
       "    .dataframe tbody tr th {\n",
       "        vertical-align: top;\n",
       "    }\n",
       "\n",
       "    .dataframe thead th {\n",
       "        text-align: right;\n",
       "    }\n",
       "</style>\n",
       "<table border=\"1\" class=\"dataframe\">\n",
       "  <thead>\n",
       "    <tr style=\"text-align: right;\">\n",
       "      <th></th>\n",
       "      <th>key</th>\n",
       "      <th>fare_amount</th>\n",
       "    </tr>\n",
       "  </thead>\n",
       "  <tbody>\n",
       "    <tr>\n",
       "      <th>0</th>\n",
       "      <td>2015-01-27 13:08:24.0000002</td>\n",
       "      <td>8.052094</td>\n",
       "    </tr>\n",
       "    <tr>\n",
       "      <th>1</th>\n",
       "      <td>2015-01-27 13:08:24.0000003</td>\n",
       "      <td>9.322865</td>\n",
       "    </tr>\n",
       "    <tr>\n",
       "      <th>2</th>\n",
       "      <td>2011-10-08 11:53:44.0000002</td>\n",
       "      <td>6.166053</td>\n",
       "    </tr>\n",
       "    <tr>\n",
       "      <th>3</th>\n",
       "      <td>2012-12-01 21:12:12.0000002</td>\n",
       "      <td>8.809672</td>\n",
       "    </tr>\n",
       "    <tr>\n",
       "      <th>4</th>\n",
       "      <td>2012-12-01 21:12:12.0000003</td>\n",
       "      <td>15.723586</td>\n",
       "    </tr>\n",
       "  </tbody>\n",
       "</table>\n",
       "</div>"
      ],
      "text/plain": [
       "                           key  fare_amount\n",
       "0  2015-01-27 13:08:24.0000002     8.052094\n",
       "1  2015-01-27 13:08:24.0000003     9.322865\n",
       "2  2011-10-08 11:53:44.0000002     6.166053\n",
       "3  2012-12-01 21:12:12.0000002     8.809672\n",
       "4  2012-12-01 21:12:12.0000003    15.723586"
      ]
     },
     "execution_count": 31,
     "metadata": {},
     "output_type": "execute_result"
    }
   ],
   "source": [
    "sample_new.head()"
   ]
  },
  {
   "cell_type": "code",
   "execution_count": 32,
   "id": "2035469f",
   "metadata": {
    "execution": {
     "iopub.execute_input": "2023-04-27T06:22:20.348765Z",
     "iopub.status.busy": "2023-04-27T06:22:20.348394Z",
     "iopub.status.idle": "2023-04-27T06:22:20.379010Z",
     "shell.execute_reply": "2023-04-27T06:22:20.378084Z"
    },
    "papermill": {
     "duration": 0.043714,
     "end_time": "2023-04-27T06:22:20.381233",
     "exception": false,
     "start_time": "2023-04-27T06:22:20.337519",
     "status": "completed"
    },
    "tags": []
   },
   "outputs": [],
   "source": [
    "submission=sample_new.to_csv(\"submission.csv\", index=False)"
   ]
  }
 ],
 "metadata": {
  "kernelspec": {
   "display_name": "Python 3",
   "language": "python",
   "name": "python3"
  },
  "language_info": {
   "codemirror_mode": {
    "name": "ipython",
    "version": 3
   },
   "file_extension": ".py",
   "mimetype": "text/x-python",
   "name": "python",
   "nbconvert_exporter": "python",
   "pygments_lexer": "ipython3",
   "version": "3.9.13"
  },
  "papermill": {
   "default_parameters": {},
   "duration": 313.677038,
   "end_time": "2023-04-27T06:22:21.113835",
   "environment_variables": {},
   "exception": null,
   "input_path": "__notebook__.ipynb",
   "output_path": "__notebook__.ipynb",
   "parameters": {},
   "start_time": "2023-04-27T06:17:07.436797",
   "version": "2.3.4"
  }
 },
 "nbformat": 4,
 "nbformat_minor": 5
}
